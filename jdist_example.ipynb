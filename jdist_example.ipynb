{
  "nbformat": 4,
  "nbformat_minor": 0,
  "metadata": {
    "colab": {
      "provenance": [],
      "authorship_tag": "ABX9TyM9ve4H/CbMrJBBODUHt1mf",
      "include_colab_link": true
    },
    "kernelspec": {
      "name": "python3",
      "display_name": "Python 3"
    },
    "language_info": {
      "name": "python"
    }
  },
  "cells": [
    {
      "cell_type": "markdown",
      "metadata": {
        "id": "view-in-github",
        "colab_type": "text"
      },
      "source": [
        "<a href=\"https://colab.research.google.com/github/jcandane/cxfel_work/blob/main/jdist_example.ipynb\" target=\"_parent\"><img src=\"https://colab.research.google.com/assets/colab-badge.svg\" alt=\"Open In Colab\"/></a>"
      ]
    },
    {
      "cell_type": "code",
      "execution_count": 1,
      "metadata": {
        "id": "4PWz9ytCsdgl"
      },
      "outputs": [],
      "source": [
        "import jax\n",
        "import jax.numpy as jnp\n",
        "import numpy as np\n",
        "import matplotlib.pyplot as plt\n",
        "from scipy.spatial.distance import cdist\n",
        "\n",
        "try:\n",
        "    from jdist import jdist\n",
        "except:\n",
        "    !wget https://raw.githubusercontent.com/jcandane/cxfel_work/main/jdist.py\n",
        "    from jdist import jdist"
      ]
    },
    {
      "cell_type": "code",
      "source": [
        "XA = np.random.randn(100, 2).astype(np.float64)\n",
        "XB = np.random.randn(100, 2).astype(np.float64)\n",
        "\n",
        "Y     = cdist(XA, XB, 'sqeuclidean').astype(np.float64)\n",
        "Y_jax = jdist(XA, XB, Dtype=jnp.float64) #.astype(np.float64)\n",
        "print(Y.dtype, Y_jax.dtype)"
      ],
      "metadata": {
        "colab": {
          "base_uri": "https://localhost:8080/"
        },
        "id": "V7_FXV2hssSE",
        "outputId": "18b77a18-a716-402d-f673-06daa65e4b58"
      },
      "execution_count": 2,
      "outputs": [
        {
          "output_type": "stream",
          "name": "stdout",
          "text": [
            "float64 float64\n"
          ]
        }
      ]
    },
    {
      "cell_type": "code",
      "source": [
        "np.allclose(Y, Y_jax)"
      ],
      "metadata": {
        "colab": {
          "base_uri": "https://localhost:8080/"
        },
        "id": "-4I0JioytEik",
        "outputId": "fb62ea0f-4acd-4279-f1c8-f76a05f3194e"
      },
      "execution_count": 3,
      "outputs": [
        {
          "output_type": "execute_result",
          "data": {
            "text/plain": [
              "True"
            ]
          },
          "metadata": {},
          "execution_count": 3
        }
      ]
    },
    {
      "cell_type": "code",
      "source": [
        "np.amax( Y_jax-Y )"
      ],
      "metadata": {
        "colab": {
          "base_uri": "https://localhost:8080/"
        },
        "id": "dio-7VXItG8n",
        "outputId": "9335b356-641a-4a81-d870-5a98cc0482e7"
      },
      "execution_count": 4,
      "outputs": [
        {
          "output_type": "execute_result",
          "data": {
            "text/plain": [
              "7.105427357601002e-15"
            ]
          },
          "metadata": {},
          "execution_count": 4
        }
      ]
    },
    {
      "cell_type": "code",
      "source": [],
      "metadata": {
        "id": "RLjtjrs_thRX"
      },
      "execution_count": 4,
      "outputs": []
    }
  ]
}