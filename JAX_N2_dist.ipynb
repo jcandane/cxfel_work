{
  "cells": [
    {
      "cell_type": "markdown",
      "metadata": {
        "id": "view-in-github",
        "colab_type": "text"
      },
      "source": [
        "<a href=\"https://colab.research.google.com/github/jcandane/cxfel_work/blob/main/JAX_N2_dist.ipynb\" target=\"_parent\"><img src=\"https://colab.research.google.com/assets/colab-badge.svg\" alt=\"Open In Colab\"/></a>"
      ]
    },
    {
      "cell_type": "code",
      "execution_count": null,
      "metadata": {
        "id": "CDH6Th9mI01w"
      },
      "outputs": [],
      "source": [
        "import jax\n",
        "import jax.numpy as jnp\n",
        "\n",
        "key  = jax.random.key(10)\n",
        "\n",
        "R_ix = jax.random.uniform(key, (12,8))"
      ]
    },
    {
      "cell_type": "markdown",
      "source": [
        "## the big note is that parallelization cannot all be done in tandem else, memory accolation is too much (5/26/24)\n",
        "\n",
        "### therefore instead have an iterative-loop over a parallel-loop. e.g. scan + vmap"
      ],
      "metadata": {
        "id": "6Y8mQ8U4NdUy"
      }
    },
    {
      "cell_type": "code",
      "execution_count": null,
      "metadata": {
        "id": "xC8u0i5jdVHY"
      },
      "outputs": [],
      "source": [
        "try:\n",
        "    import gpjax as gpx\n",
        "except:\n",
        "    !pip install gpjax==0.8.2\n",
        "    import gpjax as gpx"
      ]
    },
    {
      "cell_type": "code",
      "execution_count": null,
      "metadata": {
        "id": "7zv-67VBeKoo"
      },
      "outputs": [],
      "source": [
        "mean = gpx.mean_functions.Zero()\n",
        "kernel = gpx.kernels.RBF()\n",
        "prior = gpx.gps.Prior(mean_function = mean, kernel = kernel)\n",
        "likelihood = gpx.likelihoods.Gaussian(num_datapoints = 123)\n",
        "\n",
        "posterior = prior * likelihood"
      ]
    },
    {
      "cell_type": "markdown",
      "metadata": {
        "id": "lXYbwQWhjpEd"
      },
      "source": [
        "### row-wise algorithm"
      ]
    },
    {
      "cell_type": "code",
      "execution_count": null,
      "metadata": {
        "id": "kFvB7PFJgo3g"
      },
      "outputs": [],
      "source": [
        "import jax\n",
        "import jax.numpy as jnp\n",
        "\n",
        "## kernel computation\n",
        "@jax.jit\n",
        "def kernel(v_x, w_x):\n",
        "    \"\"\"\n",
        "    this computes the each of the covariance/kernel's matrix-elements\n",
        "    given two vectors over the feature/pixel-space\n",
        "    \"\"\"\n",
        "    #return jnp.linalg.norm(v_x - w_x)\n",
        "    ### 1.2 is a hyperparameter named length-scale\n",
        "    return jnp.exp( - (jnp.linalg.norm(v_x - w_x)/1.2)**2 )\n",
        "kernel_matrixelement = jax.vmap(kernel, in_axes=(None, 0)) ## over all Ds\n",
        "\n",
        "@jax.jit\n",
        "def covariance_vector(v_x, R_ix):\n",
        "    \"\"\"\n",
        "    covariance(v_x, R_ix) = Σ_i\n",
        "    \"\"\"\n",
        "    return kernel_matrixelement(v_x, R_ix) ## over all is\n",
        "covariance_matrix = jax.vmap(covariance_vector, in_axes=(0, None)) ## over all js\n",
        "\n",
        "### Example R_ix : 2D-jax.Array\n",
        "R_ix = jax.random.uniform(key, (120,80))\n",
        "\n",
        "### distance matrix\n",
        "R_ij = covariance_matrix(R_ix, R_ix)"
      ]
    },
    {
      "cell_type": "code",
      "execution_count": null,
      "metadata": {
        "colab": {
          "base_uri": "https://localhost:8080/"
        },
        "id": "12NSiyqdkN1a",
        "outputId": "fe370733-308c-4be3-f9e6-3b1ea283572b"
      },
      "outputs": [
        {
          "name": "stdout",
          "output_type": "stream",
          "text": [
            "22.4 ms ± 12 µs per loop (mean ± std. dev. of 7 runs, 100 loops each)\n"
          ]
        }
      ],
      "source": [
        "R_ix = jax.random.uniform(key, (12000,80))\n",
        "%timeit R_ij = covariance_matrix(R_ix, R_ix)"
      ]
    },
    {
      "cell_type": "code",
      "execution_count": null,
      "metadata": {
        "colab": {
          "base_uri": "https://localhost:8080/"
        },
        "id": "MiAzD5d8olWf",
        "outputId": "bcc6cc5b-d45a-4844-da12-bc112f052faa"
      },
      "outputs": [
        {
          "data": {
            "text/plain": [
              "Array([[1., 0., 0., ..., 0., 0., 0.],\n",
              "       [0., 1., 0., ..., 0., 0., 0.],\n",
              "       [0., 0., 1., ..., 0., 0., 0.],\n",
              "       ...,\n",
              "       [0., 0., 0., ..., 1., 0., 0.],\n",
              "       [0., 0., 0., ..., 0., 1., 0.],\n",
              "       [0., 0., 0., ..., 0., 0., 1.]], dtype=float32)"
            ]
          },
          "execution_count": 9,
          "metadata": {},
          "output_type": "execute_result"
        }
      ],
      "source": [
        "### PYP DATASET:: 152677 = snapshots & 21556 = pixels\n",
        "R_ix = jax.random.uniform(key, (6000,21556))\n",
        "covariance_matrix(R_ix, R_ix)"
      ]
    },
    {
      "cell_type": "code",
      "execution_count": null,
      "metadata": {
        "colab": {
          "base_uri": "https://localhost:8080/"
        },
        "id": "DvQd6ZCWoP40",
        "outputId": "67782a69-e290-4c3b-d46c-e79c9a001655"
      },
      "outputs": [
        {
          "name": "stdout",
          "output_type": "stream",
          "text": [
            "256 ms ± 11.8 µs per loop (mean ± std. dev. of 7 runs, 100 loops each)\n"
          ]
        }
      ],
      "source": [
        "### PYP DATASET:: 152677 = snapshots & 21556 = pixels\n",
        "R_ix = jax.random.uniform(key, (2000,21556))\n",
        "%timeit covariance_matrix(R_ix, R_ix)"
      ]
    },
    {
      "cell_type": "code",
      "execution_count": null,
      "metadata": {
        "colab": {
          "base_uri": "https://localhost:8080/"
        },
        "id": "5Ux-OK6No_yQ",
        "outputId": "64c699a9-d23f-4f62-b77f-df3c003689df"
      },
      "outputs": [
        {
          "data": {
            "text/plain": [
              "(37.25290298461914, 'GB')"
            ]
          },
          "execution_count": 18,
          "metadata": {},
          "output_type": "execute_result"
        }
      ],
      "source": [
        "100000*100000*4/1024/1024/1024, \"GB\""
      ]
    },
    {
      "cell_type": "markdown",
      "metadata": {
        "id": "9v6iLQI7u59W"
      },
      "source": [
        "complaint from https://stackoverflow.com/questions/76109349/high-memory-consumption-in-jax-with-nested-vmap"
      ]
    },
    {
      "cell_type": "code",
      "execution_count": null,
      "metadata": {
        "colab": {
          "base_uri": "https://localhost:8080/"
        },
        "id": "AvuC17aTupyF",
        "outputId": "6be2b9ce-3101-43e5-a209-a25069aa814e"
      },
      "outputs": [
        {
          "name": "stdout",
          "output_type": "stream",
          "text": [
            "R_ix:\n",
            " [[0.0176878  0.5916569  0.89398885 ... 0.6814302  0.29505873 0.8417723 ]\n",
            " [0.48681045 0.28730118 0.67160344 ... 0.37929893 0.09927273 0.3082807 ]\n",
            " [0.81797326 0.22183383 0.21658444 ... 0.4808247  0.70558167 0.2004193 ]\n",
            " ...\n",
            " [0.5076928  0.6204833  0.5446193  ... 0.3674395  0.54845095 0.643455  ]\n",
            " [0.9651996  0.5978706  0.03186083 ... 0.84701216 0.69112897 0.52002454]\n",
            " [0.18267298 0.7189157  0.01269352 ... 0.7409458  0.36291182 0.47115946]]\n",
            "(120, 120)\n"
          ]
        }
      ],
      "source": [
        "import jax\n",
        "import jax.numpy as jnp\n",
        "from jax import lax\n",
        "\n",
        "# Kernel computation\n",
        "@jax.jit\n",
        "def kernel(v_x, w_x):\n",
        "    \"\"\"\n",
        "    This computes each of the covariance/kernel's matrix-elements\n",
        "    given two vectors over the feature/pixel-space.\n",
        "    \"\"\"\n",
        "    # Hyperparameter named length-scale\n",
        "    length_scale = 1.2\n",
        "    return jnp.exp(- (jnp.linalg.norm(v_x - w_x) / length_scale) ** 2)\n",
        "\n",
        "kernel_matrixelement = jax.vmap(kernel, in_axes=(None, 0))  # over all Ds\n",
        "\n",
        "@jax.jit\n",
        "def covariance_vector(v_x, R_ix):\n",
        "    \"\"\"\n",
        "    covariance(v_x, R_ix) = Σ_i\n",
        "    \"\"\"\n",
        "    return kernel_matrixelement(v_x, R_ix)  # over all is\n",
        "\n",
        "# Define the function to be used in the fori_loop\n",
        "def covariance_matrix_element(i, R_ij, R_ix):\n",
        "    R_ij = R_ij.at[i].set(covariance_vector(R_ix[i], R_ix))\n",
        "    return R_ij\n",
        "\n",
        "@jax.jit\n",
        "def covariance_matrix(R_ix):\n",
        "    N = R_ix.shape[0]\n",
        "    R_ij = jnp.zeros((N, N))\n",
        "    R_ij = lax.fori_loop(0, N, lambda i, R_ij: covariance_matrix_element(i, R_ij, R_ix), R_ij)\n",
        "    return R_ij\n",
        "\n",
        "# Example R_ix : 2D-jax.Array\n",
        "key = jax.random.PRNGKey(0)\n",
        "R_ix = jax.random.uniform(key, (120, 80))\n",
        "\n",
        "# Compute the distance matrix\n",
        "R_ij = covariance_matrix(R_ix)\n",
        "\n",
        "print(\"R_ix:\\n\", R_ix)\n",
        "print(R_ij.shape)\n"
      ]
    },
    {
      "cell_type": "code",
      "execution_count": null,
      "metadata": {
        "colab": {
          "background_save": true
        },
        "id": "W6sXPib3uzGf",
        "outputId": "e777b790-c9ae-4c24-f783-8df946601e54"
      },
      "outputs": [
        {
          "data": {
            "text/plain": [
              "Array([[1., 0., 0., ..., 0., 0., 0.],\n",
              "       [0., 1., 0., ..., 0., 0., 0.],\n",
              "       [0., 0., 1., ..., 0., 0., 0.],\n",
              "       ...,\n",
              "       [0., 0., 0., ..., 1., 0., 0.],\n",
              "       [0., 0., 0., ..., 0., 1., 0.],\n",
              "       [0., 0., 0., ..., 0., 0., 1.]], dtype=float32)"
            ]
          },
          "execution_count": 8,
          "metadata": {},
          "output_type": "execute_result"
        }
      ],
      "source": [
        "R_ix = jax.random.uniform(key, (40000,21556))\n",
        "%timeit covariance_matrix(R_ix)"
      ]
    },
    {
      "cell_type": "markdown",
      "source": [
        "\n",
        "\n",
        "1.   $N^2$ with covaraince-matrix pure-dense\n",
        "2.   $N^2$ with covaraince-matrix dense-sparse\n",
        "3.   $N^2$ with covaraince-matrix pure-sparse\n",
        "\n",
        "If $\\sim N^2 D + N^2$ Operations (1.5E5)^2 2E4 = 4.5(E+14) /\n",
        "\n"
      ],
      "metadata": {
        "id": "Ynqc1Xav7kX4"
      }
    },
    {
      "cell_type": "markdown",
      "metadata": {
        "id": "OVRorvunydF-"
      },
      "source": [
        "### using jax.scan"
      ]
    },
    {
      "cell_type": "code",
      "execution_count": null,
      "metadata": {
        "id": "liNEpwGryfG_"
      },
      "outputs": [],
      "source": [
        "### dense N^2 distance/covariance-matrix calculation in jax by j. candanedo\n",
        "\n",
        "import jax\n",
        "import jax.numpy as jnp\n",
        "\n",
        "@jax.jit\n",
        "def kernel(v_x, w_x, length_scale = 1.2):\n",
        "    \"\"\" Kernel Computation\n",
        "    This computes each of the covariance/kernel's matrix-elements\n",
        "    given two vectors over the feature/pixel-space.\n",
        "    \"\"\"\n",
        "    return jnp.exp(- (jnp.linalg.norm(v_x - w_x) / length_scale) ** 2)\n",
        "kernel_matrixelement = jax.vmap(kernel, in_axes=(None, 0))  # over all \"D\"s\n",
        "\n",
        "@jax.jit\n",
        "def covariance_vector(v_x, R_ix):\n",
        "    \"\"\" compute 1 row of the covariance-matrix\n",
        "    covariance_vector(v_x, R_ix) = Σ_i\n",
        "    \"\"\"\n",
        "    return kernel_matrixelement(v_x, R_ix)  # over all \"i\"s\n",
        "\n",
        "@jax.jit\n",
        "def update_covariance_matrix(carry, i):\n",
        "    \"\"\"\n",
        "    Given the entire covariance-matrix, update the \"i\"th row\n",
        "    with the covariance_vector function\n",
        "    \"\"\"\n",
        "    R_ij, R_ix = carry\n",
        "    R_ij = R_ij.at[i].set(covariance_vector(R_ix[i], R_ix))\n",
        "    return (R_ij, R_ix), None\n",
        "\n",
        "@jax.jit\n",
        "def covariance_matrix(R_ix):\n",
        "    \"\"\" compute the entire covariance-matrix\n",
        "    GIVEN > R_ix\n",
        "    GET > Σ_ij\n",
        "    \"\"\"\n",
        "    N    = R_ix.shape[0]\n",
        "    Σ_ij = jnp.zeros((N, N)) ### define empty covaraince-matrix\n",
        "    (Σ_ij, _), _ = jax.lax.scan(update_covariance_matrix, (Σ_ij, R_ix), jnp.arange(N))\n",
        "    return Σ_ij\n",
        "\n",
        "###################\n",
        "@jax.jit\n",
        "def covariance_matrixX(R_ix, R_jx):\n",
        "    \"\"\" compute the entire covariance-matrix\n",
        "    GIVEN > R_ix, R_jx : jnp.ndarray\n",
        "    GET > Σ_ij\n",
        "    \"\"\"\n",
        "    N    = R_ix.shape[0]\n",
        "    M    = R_jx.shape[0]\n",
        "    R_ij = jnp.zeros((N, M))\n",
        "    (R_ij, _), _ = jax.lax.scan(update_covariance_matrix, (R_ij, R_ix), jnp.arange(N))\n",
        "    return R_ij"
      ]
    },
    {
      "cell_type": "markdown",
      "source": [
        "## !! perhaps benchmark just initializing the array, and then mutating it. time this to see if this matches with theoritical FLOPs"
      ],
      "metadata": {
        "id": "gPbKDfGnHRLD"
      }
    },
    {
      "cell_type": "markdown",
      "source": [
        "### example"
      ],
      "metadata": {
        "id": "S_G_dprQWzen"
      }
    },
    {
      "cell_type": "code",
      "source": [
        "key  = jax.random.PRNGKey(7)\n",
        "R_ix = jax.random.uniform(key, (120, 80)) ## : R_ix : 2D-jax.Array\n",
        "R_ij = covariance_matrix(R_ix) # Compute the distance matrix"
      ],
      "metadata": {
        "id": "7sqTOEwXW-Gk"
      },
      "execution_count": null,
      "outputs": []
    },
    {
      "cell_type": "code",
      "execution_count": null,
      "metadata": {
        "id": "6EPa0Cj-zb-2"
      },
      "outputs": [],
      "source": [
        "key  = jax.random.PRNGKey(7)\n",
        "R_ix = jax.random.uniform(key, (40000,21556)) ### 101s on A100 for R_ix.shape = (40000,21556)\n",
        "R_ij = covariance_matrix(R_ix)"
      ]
    },
    {
      "cell_type": "code",
      "source": [
        "R_ij.shape"
      ],
      "metadata": {
        "colab": {
          "base_uri": "https://localhost:8080/"
        },
        "id": "esPR9jM7-fEs",
        "outputId": "a6aeb276-bc73-479e-ac94-fc0d114ede80"
      },
      "execution_count": null,
      "outputs": [
        {
          "output_type": "execute_result",
          "data": {
            "text/plain": [
              "(40000, 40000)"
            ]
          },
          "metadata": {},
          "execution_count": 4
        }
      ]
    },
    {
      "cell_type": "markdown",
      "metadata": {
        "id": "MiFTPlBzxit2"
      },
      "source": [
        "### another code"
      ]
    },
    {
      "cell_type": "code",
      "execution_count": null,
      "metadata": {
        "colab": {
          "base_uri": "https://localhost:8080/",
          "height": 376
        },
        "id": "9CJXtslfxkFD",
        "outputId": "d15e9311-2231-4cd6-f8f8-64cf0d9e8e33"
      },
      "outputs": [
        {
          "ename": "NameError",
          "evalue": "name 'i' is not defined",
          "output_type": "error",
          "traceback": [
            "\u001b[0;31m---------------------------------------------------------------------------\u001b[0m",
            "\u001b[0;31mNameError\u001b[0m                                 Traceback (most recent call last)",
            "\u001b[0;32m<ipython-input-10-c14c90277b13>\u001b[0m in \u001b[0;36m<cell line: 42>\u001b[0;34m()\u001b[0m\n\u001b[1;32m     40\u001b[0m \u001b[0;34m\u001b[0m\u001b[0m\n\u001b[1;32m     41\u001b[0m \u001b[0;31m# Compute the distance matrix\u001b[0m\u001b[0;34m\u001b[0m\u001b[0;34m\u001b[0m\u001b[0m\n\u001b[0;32m---> 42\u001b[0;31m \u001b[0mR_ij\u001b[0m \u001b[0;34m=\u001b[0m \u001b[0mcovariance_matrix\u001b[0m\u001b[0;34m(\u001b[0m\u001b[0mR_ix\u001b[0m\u001b[0;34m)\u001b[0m\u001b[0;34m\u001b[0m\u001b[0;34m\u001b[0m\u001b[0m\n\u001b[0m\u001b[1;32m     43\u001b[0m \u001b[0;34m\u001b[0m\u001b[0m\n\u001b[1;32m     44\u001b[0m \u001b[0mprint\u001b[0m\u001b[0;34m(\u001b[0m\u001b[0;34m\"R_ix:\\n\"\u001b[0m\u001b[0;34m,\u001b[0m \u001b[0mR_ix\u001b[0m\u001b[0;34m)\u001b[0m\u001b[0;34m\u001b[0m\u001b[0;34m\u001b[0m\u001b[0m\n",
            "    \u001b[0;31m[... skipping hidden 11 frame]\u001b[0m\n",
            "\u001b[0;32m<ipython-input-10-c14c90277b13>\u001b[0m in \u001b[0;36mcovariance_matrix\u001b[0;34m(R_ix)\u001b[0m\n\u001b[1;32m     32\u001b[0m     \u001b[0mN\u001b[0m \u001b[0;34m=\u001b[0m \u001b[0mR_ix\u001b[0m\u001b[0;34m.\u001b[0m\u001b[0mshape\u001b[0m\u001b[0;34m[\u001b[0m\u001b[0;36m0\u001b[0m\u001b[0;34m]\u001b[0m\u001b[0;34m\u001b[0m\u001b[0;34m\u001b[0m\u001b[0m\n\u001b[1;32m     33\u001b[0m     \u001b[0mR_ij\u001b[0m \u001b[0;34m=\u001b[0m \u001b[0mjnp\u001b[0m\u001b[0;34m.\u001b[0m\u001b[0mzeros\u001b[0m\u001b[0;34m(\u001b[0m\u001b[0;34m(\u001b[0m\u001b[0mN\u001b[0m\u001b[0;34m,\u001b[0m \u001b[0mN\u001b[0m\u001b[0;34m)\u001b[0m\u001b[0;34m)\u001b[0m\u001b[0;34m\u001b[0m\u001b[0;34m\u001b[0m\u001b[0m\n\u001b[0;32m---> 34\u001b[0;31m     \u001b[0mR_ij\u001b[0m \u001b[0;34m=\u001b[0m \u001b[0mlax\u001b[0m\u001b[0;34m.\u001b[0m\u001b[0mfori_loop\u001b[0m\u001b[0;34m(\u001b[0m\u001b[0;36m0\u001b[0m\u001b[0;34m,\u001b[0m \u001b[0mN\u001b[0m\u001b[0;34m,\u001b[0m \u001b[0mupdate_covariance_matrix\u001b[0m\u001b[0;34m,\u001b[0m \u001b[0;34m(\u001b[0m\u001b[0mi\u001b[0m\u001b[0;34m,\u001b[0m \u001b[0mR_ij\u001b[0m\u001b[0;34m,\u001b[0m \u001b[0mR_ix\u001b[0m\u001b[0;34m)\u001b[0m\u001b[0;34m)\u001b[0m\u001b[0;34m\u001b[0m\u001b[0;34m\u001b[0m\u001b[0m\n\u001b[0m\u001b[1;32m     35\u001b[0m     \u001b[0;32mreturn\u001b[0m \u001b[0mR_ij\u001b[0m\u001b[0;34m[\u001b[0m\u001b[0;36m0\u001b[0m\u001b[0;34m]\u001b[0m\u001b[0;34m\u001b[0m\u001b[0;34m\u001b[0m\u001b[0m\n\u001b[1;32m     36\u001b[0m \u001b[0;34m\u001b[0m\u001b[0m\n",
            "\u001b[0;31mNameError\u001b[0m: name 'i' is not defined"
          ]
        }
      ],
      "source": [
        "import jax\n",
        "import jax.numpy as jnp\n",
        "from jax import lax\n",
        "\n",
        "# Kernel computation\n",
        "@jax.jit\n",
        "def kernel(v_x, w_x):\n",
        "    \"\"\"\n",
        "    This computes each of the covariance/kernel's matrix-elements\n",
        "    given two vectors over the feature/pixel-space.\n",
        "    \"\"\"\n",
        "    # Hyperparameter named length-scale\n",
        "    length_scale = 1.2\n",
        "    return jnp.exp(- (jnp.linalg.norm(v_x - w_x) / length_scale) ** 2)\n",
        "\n",
        "kernel_matrixelement = jax.vmap(kernel, in_axes=(None, 0))  # over all Ds\n",
        "\n",
        "@jax.jit\n",
        "def covariance_vector(v_x, R_ix):\n",
        "    \"\"\"\n",
        "    covariance(v_x, R_ix) = Σ_i\n",
        "    \"\"\"\n",
        "    return kernel_matrixelement(v_x, R_ix)  # over all is\n",
        "\n",
        "# Function to update each row of the covariance matrix\n",
        "def update_covariance_matrix(i, R_ij, R_ix):\n",
        "    R_ij = R_ij.at[i].set(covariance_vector(R_ix[i], R_ix))\n",
        "    return R_ij\n",
        "\n",
        "@jax.jit\n",
        "def covariance_matrix(R_ix):\n",
        "    N = R_ix.shape[0]\n",
        "    R_ij = jnp.zeros((N, N))\n",
        "    R_ij = lax.fori_loop(0, N, update_covariance_matrix, (i, R_ij, R_ix))\n",
        "    return R_ij[0]\n",
        "\n",
        "# Example R_ix : 2D-jax.Array\n",
        "key = jax.random.PRNGKey(0)\n",
        "R_ix = jax.random.uniform(key, (120, 80))\n",
        "\n",
        "# Compute the distance matrix\n",
        "R_ij = covariance_matrix(R_ix)\n",
        "\n",
        "print(\"R_ix:\\n\", R_ix)\n",
        "print(\"Distance matrix R_ij:\\n\", R_ij)\n"
      ]
    },
    {
      "cell_type": "markdown",
      "metadata": {
        "id": "SunwDXeujrqC"
      },
      "source": [
        "### all element-wise algorithm"
      ]
    },
    {
      "cell_type": "code",
      "execution_count": null,
      "metadata": {
        "colab": {
          "base_uri": "https://localhost:8080/"
        },
        "id": "TUsw8qezgpFh",
        "outputId": "35cb42bb-1330-433a-dd51-63eb2c299f05"
      },
      "outputs": [
        {
          "name": "stdout",
          "output_type": "stream",
          "text": [
            "R_ix:\n",
            " [[1. 2.]\n",
            " [3. 4.]\n",
            " [5. 6.]]\n",
            "Distance matrix R_ij:\n",
            " [[0.       2.828427 5.656854]\n",
            " [2.828427 0.       2.828427]\n",
            " [5.656854 2.828427 0.      ]]\n"
          ]
        }
      ],
      "source": [
        "import jax\n",
        "import jax.numpy as jnp\n",
        "from jax import jit, vmap\n",
        "\n",
        "# Function to compute the pairwise distance between two vectors\n",
        "@jit\n",
        "def pairwise_distance(vec1, vec2):\n",
        "    return jnp.linalg.norm(vec1 - vec2)\n",
        "\n",
        "# JIT-compile and vectorize the pairwise distance function for efficiency\n",
        "pairwise_distance_vmap = vmap(vmap(pairwise_distance, in_axes=(None, 0)), in_axes=(0, None))\n",
        "\n",
        "def compute_distance_matrix(R):\n",
        "    # Compute the full distance matrix\n",
        "    distance_matrix = pairwise_distance_vmap(R, R)\n",
        "    return distance_matrix\n",
        "\n",
        "# Example 2D JAX array R_ix\n",
        "R_ix = jnp.array([[1.0, 2.0], [3.0, 4.0], [5.0, 6.0]])\n",
        "\n",
        "# Compute the distance matrix using vmap over all elements\n",
        "R_ij = compute_distance_matrix(R_ix)\n",
        "\n",
        "print(\"R_ix:\\n\", R_ix)\n",
        "print(\"Distance matrix R_ij:\\n\", R_ij)\n"
      ]
    },
    {
      "cell_type": "code",
      "execution_count": null,
      "metadata": {
        "colab": {
          "base_uri": "https://localhost:8080/",
          "height": 1000
        },
        "id": "fwyRVo_pjFPJ",
        "outputId": "63e7467b-b756-4d92-c767-400a07416c39"
      },
      "outputs": [
        {
          "ename": "XlaRuntimeError",
          "evalue": "RESOURCE_EXHAUSTED: Out of memory while trying to allocate 39424000000 bytes.\nBufferAssignment OOM Debugging.\nBufferAssignment stats:\n             parameter allocation:    1.28GiB\n              constant allocation:         0B\n        maybe_live_out allocation:  244.14MiB\n     preallocated temp allocation:   36.72GiB\n  preallocated temp fragmentation:         0B (0.00%)\n                 total allocation:   38.24GiB\n              total fragmentation:        12B (0.00%)\nPeak buffers:\n\tBuffer 1:\n\t\tSize: 36.72GiB\n\t\tOperator: op_name=\"jit(pairwise_distance)/jit(main)/jit(norm)/reduce_sum[axes=(2,)]\" source_file=\"<ipython-input-2-95acb946888c>\" source_line=13\n\t\tXLA Label: fusion\n\t\tShape: f32[8000,8000,154]\n\t\t==========================\n\n\tBuffer 2:\n\t\tSize: 657.84MiB\n\t\tEntry Parameter Subshape: f32[8000,21556]\n\t\t==========================\n\n\tBuffer 3:\n\t\tSize: 657.84MiB\n\t\tEntry Parameter Subshape: f32[8000,21556]\n\t\t==========================\n\n\tBuffer 4:\n\t\tSize: 244.14MiB\n\t\tOperator: op_name=\"jit(pairwise_distance)/jit(main)/jit(norm)/sqrt\" source_file=\"<ipython-input-2-95acb946888c>\" source_line=13\n\t\tXLA Label: fusion\n\t\tShape: f32[8000,8000]\n\t\t==========================\n\n\tBuffer 5:\n\t\tSize: 4B\n\t\tXLA Label: parameter\n\t\tShape: f32[]\n\t\t==========================\n\n\tBuffer 6:\n\t\tSize: 4B\n\t\tXLA Label: parameter\n\t\tShape: f32[]\n\t\t==========================\n\n\tBuffer 7:\n\t\tSize: 4B\n\t\tOperator: op_name=\"jit(pairwise_distance)/jit(main)/jit(norm)/reduce_sum[axes=(2,)]\" source_file=\"<ipython-input-2-95acb946888c>\" source_line=13\n\t\tXLA Label: add\n\t\tShape: f32[]\n\t\t==========================\n\n",
          "output_type": "error",
          "traceback": [
            "\u001b[0;31m---------------------------------------------------------------------------\u001b[0m",
            "\u001b[0;31mXlaRuntimeError\u001b[0m                           Traceback (most recent call last)",
            "\u001b[0;32m<ipython-input-14-856bc5940157>\u001b[0m in \u001b[0;36m<cell line: 2>\u001b[0;34m()\u001b[0m\n\u001b[1;32m      1\u001b[0m \u001b[0mR_ix\u001b[0m \u001b[0;34m=\u001b[0m \u001b[0mjax\u001b[0m\u001b[0;34m.\u001b[0m\u001b[0mrandom\u001b[0m\u001b[0;34m.\u001b[0m\u001b[0muniform\u001b[0m\u001b[0;34m(\u001b[0m\u001b[0mkey\u001b[0m\u001b[0;34m,\u001b[0m \u001b[0;34m(\u001b[0m\u001b[0;36m8000\u001b[0m\u001b[0;34m,\u001b[0m\u001b[0;36m21556\u001b[0m\u001b[0;34m)\u001b[0m\u001b[0;34m)\u001b[0m\u001b[0;34m\u001b[0m\u001b[0;34m\u001b[0m\u001b[0m\n\u001b[0;32m----> 2\u001b[0;31m \u001b[0ml\u001b[0m \u001b[0;34m=\u001b[0m \u001b[0mcompute_distance_matrix\u001b[0m\u001b[0;34m(\u001b[0m\u001b[0mR_ix\u001b[0m\u001b[0;34m)\u001b[0m\u001b[0;34m\u001b[0m\u001b[0;34m\u001b[0m\u001b[0m\n\u001b[0m",
            "\u001b[0;32m<ipython-input-10-f9cabd4378a3>\u001b[0m in \u001b[0;36mcompute_distance_matrix\u001b[0;34m(R)\u001b[0m\n\u001b[1;32m     13\u001b[0m \u001b[0;32mdef\u001b[0m \u001b[0mcompute_distance_matrix\u001b[0m\u001b[0;34m(\u001b[0m\u001b[0mR\u001b[0m\u001b[0;34m)\u001b[0m\u001b[0;34m:\u001b[0m\u001b[0;34m\u001b[0m\u001b[0;34m\u001b[0m\u001b[0m\n\u001b[1;32m     14\u001b[0m     \u001b[0;31m# Compute the full distance matrix\u001b[0m\u001b[0;34m\u001b[0m\u001b[0;34m\u001b[0m\u001b[0m\n\u001b[0;32m---> 15\u001b[0;31m     \u001b[0mdistance_matrix\u001b[0m \u001b[0;34m=\u001b[0m \u001b[0mpairwise_distance_vmap\u001b[0m\u001b[0;34m(\u001b[0m\u001b[0mR\u001b[0m\u001b[0;34m,\u001b[0m \u001b[0mR\u001b[0m\u001b[0;34m)\u001b[0m\u001b[0;34m\u001b[0m\u001b[0;34m\u001b[0m\u001b[0m\n\u001b[0m\u001b[1;32m     16\u001b[0m     \u001b[0;32mreturn\u001b[0m \u001b[0mdistance_matrix\u001b[0m\u001b[0;34m\u001b[0m\u001b[0;34m\u001b[0m\u001b[0m\n\u001b[1;32m     17\u001b[0m \u001b[0;34m\u001b[0m\u001b[0m\n",
            "    \u001b[0;31m[... skipping hidden 24 frame]\u001b[0m\n",
            "\u001b[0;32m/usr/local/lib/python3.10/dist-packages/jax/_src/interpreters/pxla.py\u001b[0m in \u001b[0;36m__call__\u001b[0;34m(self, *args)\u001b[0m\n\u001b[1;32m   1211\u001b[0m       \u001b[0mself\u001b[0m\u001b[0;34m.\u001b[0m\u001b[0m_handle_token_bufs\u001b[0m\u001b[0;34m(\u001b[0m\u001b[0mresult_token_bufs\u001b[0m\u001b[0;34m,\u001b[0m \u001b[0msharded_runtime_token\u001b[0m\u001b[0;34m)\u001b[0m\u001b[0;34m\u001b[0m\u001b[0;34m\u001b[0m\u001b[0m\n\u001b[1;32m   1212\u001b[0m     \u001b[0;32melse\u001b[0m\u001b[0;34m:\u001b[0m\u001b[0;34m\u001b[0m\u001b[0;34m\u001b[0m\u001b[0m\n\u001b[0;32m-> 1213\u001b[0;31m       \u001b[0mresults\u001b[0m \u001b[0;34m=\u001b[0m \u001b[0mself\u001b[0m\u001b[0;34m.\u001b[0m\u001b[0mxla_executable\u001b[0m\u001b[0;34m.\u001b[0m\u001b[0mexecute_sharded\u001b[0m\u001b[0;34m(\u001b[0m\u001b[0minput_bufs\u001b[0m\u001b[0;34m)\u001b[0m\u001b[0;34m\u001b[0m\u001b[0;34m\u001b[0m\u001b[0m\n\u001b[0m\u001b[1;32m   1214\u001b[0m     \u001b[0;32mif\u001b[0m \u001b[0mdispatch\u001b[0m\u001b[0;34m.\u001b[0m\u001b[0mneeds_check_special\u001b[0m\u001b[0;34m(\u001b[0m\u001b[0;34m)\u001b[0m\u001b[0;34m:\u001b[0m\u001b[0;34m\u001b[0m\u001b[0;34m\u001b[0m\u001b[0m\n\u001b[1;32m   1215\u001b[0m       \u001b[0mout_arrays\u001b[0m \u001b[0;34m=\u001b[0m \u001b[0mresults\u001b[0m\u001b[0;34m.\u001b[0m\u001b[0mdisassemble_into_single_device_arrays\u001b[0m\u001b[0;34m(\u001b[0m\u001b[0;34m)\u001b[0m\u001b[0;34m\u001b[0m\u001b[0;34m\u001b[0m\u001b[0m\n",
            "\u001b[0;31mXlaRuntimeError\u001b[0m: RESOURCE_EXHAUSTED: Out of memory while trying to allocate 39424000000 bytes.\nBufferAssignment OOM Debugging.\nBufferAssignment stats:\n             parameter allocation:    1.28GiB\n              constant allocation:         0B\n        maybe_live_out allocation:  244.14MiB\n     preallocated temp allocation:   36.72GiB\n  preallocated temp fragmentation:         0B (0.00%)\n                 total allocation:   38.24GiB\n              total fragmentation:        12B (0.00%)\nPeak buffers:\n\tBuffer 1:\n\t\tSize: 36.72GiB\n\t\tOperator: op_name=\"jit(pairwise_distance)/jit(main)/jit(norm)/reduce_sum[axes=(2,)]\" source_file=\"<ipython-input-2-95acb946888c>\" source_line=13\n\t\tXLA Label: fusion\n\t\tShape: f32[8000,8000,154]\n\t\t==========================\n\n\tBuffer 2:\n\t\tSize: 657.84MiB\n\t\tEntry Parameter Subshape: f32[8000,21556]\n\t\t==========================\n\n\tBuffer 3:\n\t\tSize: 657.84MiB\n\t\tEntry Parameter Subshape: f32[8000,21556]\n\t\t==========================\n\n\tBuffer 4:\n\t\tSize: 244.14MiB\n\t\tOperator: op_name=\"jit(pairwise_distance)/jit(main)/jit(norm)/sqrt\" source_file=\"<ipython-input-2-95acb946888c>\" source_line=13\n\t\tXLA Label: fusion\n\t\tShape: f32[8000,8000]\n\t\t==========================\n\n\tBuffer 5:\n\t\tSize: 4B\n\t\tXLA Label: parameter\n\t\tShape: f32[]\n\t\t==========================\n\n\tBuffer 6:\n\t\tSize: 4B\n\t\tXLA Label: parameter\n\t\tShape: f32[]\n\t\t==========================\n\n\tBuffer 7:\n\t\tSize: 4B\n\t\tOperator: op_name=\"jit(pairwise_distance)/jit(main)/jit(norm)/reduce_sum[axes=(2,)]\" source_file=\"<ipython-input-2-95acb946888c>\" source_line=13\n\t\tXLA Label: add\n\t\tShape: f32[]\n\t\t==========================\n\n"
          ]
        }
      ],
      "source": [
        "R_ix = jax.random.uniform(key, (8000,21556))\n",
        "l = compute_distance_matrix(R_ix)"
      ]
    },
    {
      "cell_type": "code",
      "execution_count": null,
      "metadata": {
        "id": "NNxbIdOCrgCK"
      },
      "outputs": [],
      "source": []
    }
  ],
  "metadata": {
    "accelerator": "GPU",
    "colab": {
      "collapsed_sections": [
        "MiFTPlBzxit2",
        "SunwDXeujrqC"
      ],
      "gpuType": "A100",
      "machine_shape": "hm",
      "provenance": [],
      "authorship_tag": "ABX9TyNN3LmQ0Nc+kvEuL5YM8etc",
      "include_colab_link": true
    },
    "kernelspec": {
      "display_name": "Python 3",
      "name": "python3"
    },
    "language_info": {
      "name": "python"
    }
  },
  "nbformat": 4,
  "nbformat_minor": 0
}